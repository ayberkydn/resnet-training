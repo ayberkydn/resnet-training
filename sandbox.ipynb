{
 "cells": [
  {
   "cell_type": "code",
   "execution_count": 1,
   "id": "phantom-organizer",
   "metadata": {},
   "outputs": [],
   "source": [
    "import torch"
   ]
  },
  {
   "cell_type": "code",
   "execution_count": 3,
   "id": "pleased-strap",
   "metadata": {},
   "outputs": [],
   "source": [
    "a = torch.load('./model-checkpoints/epochepoch=3model.ckpt')"
   ]
  },
  {
   "cell_type": "code",
   "execution_count": 7,
   "id": "declared-handy",
   "metadata": {},
   "outputs": [
    {
     "data": {
      "text/plain": [
       "tensor([-0.5130, -0.5843,  0.1516,  1.3199, -0.0487, -0.5811, -0.4899, -0.0257,\n",
       "         0.1309,  0.7033], device='cuda:0')"
      ]
     },
     "execution_count": 7,
     "metadata": {},
     "output_type": "execute_result"
    }
   ],
   "source": [
    "a['state_dict']['model.fc.bias']"
   ]
  },
  {
   "cell_type": "code",
   "execution_count": 22,
   "id": "bizarre-bottle",
   "metadata": {},
   "outputs": [],
   "source": [
    "rm_word = 'model'\n",
    "raw_state_dict = {}\n",
    "for key in a['state_dict'].keys():\n",
    "    raw_key = key[6:]\n",
    "    raw_state_dict[raw_key] =  a['state_dict'][key]\n",
    "\n",
    "\n"
   ]
  },
  {
   "cell_type": "code",
   "execution_count": null,
   "id": "developmental-shaft",
   "metadata": {},
   "outputs": [],
   "source": [
    "from src.models.yuv_resnet import YUVResnet"
   ]
  },
  {
   "cell_type": "code",
   "execution_count": null,
   "id": "likely-extraction",
   "metadata": {},
   "outputs": [],
   "source": []
  }
 ],
 "metadata": {
  "kernelspec": {
   "display_name": "Python 3",
   "language": "python",
   "name": "python3"
  },
  "language_info": {
   "codemirror_mode": {
    "name": "ipython",
    "version": 3
   },
   "file_extension": ".py",
   "mimetype": "text/x-python",
   "name": "python",
   "nbconvert_exporter": "python",
   "pygments_lexer": "ipython3",
   "version": "3.7.7"
  }
 },
 "nbformat": 4,
 "nbformat_minor": 5
}
